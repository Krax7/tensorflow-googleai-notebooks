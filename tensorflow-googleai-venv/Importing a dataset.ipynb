{
 "cells": [
  {
   "cell_type": "markdown",
   "metadata": {},
   "source": [
    "# Importar un dataset"
   ]
  },
  {
   "cell_type": "markdown",
   "metadata": {},
   "source": [
    "### En este caso, vamos a importar un dataset que ya viene de un paquete de scikit learn"
   ]
  },
  {
   "cell_type": "code",
   "execution_count": null,
   "metadata": {},
   "outputs": [],
   "source": [
    "# Importamos la función que nos va a permitir obtener el dataset\n",
    "from sklearn.datasets import load_breast_cancer\n",
    "# StandarScaler normamaliza los valores del dataset removiendo el\n",
    "# promedio y llevando todo a la escala de la unidad.\n",
    "from sklearn.preprocessing import StandardScaler\n",
    "\n",
    "# Cargar dataset, extraer dimensiones, inicializar scaler.\n",
    "cancer_data = load_breast_cancer()\n",
    "m, n = cancer_data.data.shape\n",
    "scaler = StandardScaler()\n",
    "\n",
    "# Extraer set de entrenamiento\n",
    "# Nota: Esto también se puede hacer y mejor con el paquete de\n",
    "# scikit learn\n",
    "train_data = cancer_data.data[0:400] # Split arbitrario\n",
    "scaled_training_cancer_data = scaler.fit_transform(train_data)\n",
    "training_cancer_data = cancer_data.target[0:400] # Split arbitrario\n",
    "\n",
    "# Set de validación\n",
    "validation_data = cancer_data.data[400:500]\n",
    "scaled_validation_cancer_data = scaler.fit_transform(validation_data)\n",
    "validation_cancer_data = cancer_data.target[400:500]\n",
    "\n",
    "# Set de prueba\n",
    "testing_data = cancer_data.data[500:569]\n",
    "scaled_testing_cancer_data = scaler.fit_tranform(testing_data)\n",
    "testing_cancer_data = cancer_data.target[500:569]\n",
    "\n",
    "# Nota al pie: El atributo data del loader del dataset contiene toda\n",
    "# el dataset en si mismo, mientras que el atributo target contiene\n",
    "# todas las respuestas o labels.\n"
   ]
  }
 ],
 "metadata": {
  "kernelspec": {
   "display_name": "Python 3",
   "language": "python",
   "name": "python3"
  },
  "language_info": {
   "codemirror_mode": {
    "name": "ipython",
    "version": 3
   },
   "file_extension": ".py",
   "mimetype": "text/x-python",
   "name": "python",
   "nbconvert_exporter": "python",
   "pygments_lexer": "ipython3",
   "version": "3.7.3"
  }
 },
 "nbformat": 4,
 "nbformat_minor": 2
}
