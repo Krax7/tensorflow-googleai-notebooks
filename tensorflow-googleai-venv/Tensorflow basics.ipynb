{
 "cells": [
  {
   "cell_type": "markdown",
   "metadata": {},
   "source": [
    "# Tensorflow basics"
   ]
  },
  {
   "cell_type": "markdown",
   "metadata": {},
   "source": [
    "El flujo de trabajo con Tensorflow viene siendo de la siguiente manera:\n",
    "\n",
    "* Declarar variables, holders y constantes\n",
    "* Declarar funciones y métodos\n",
    "* Ejecutarlo todo mediante una o más sesiones"
   ]
  },
  {
   "cell_type": "markdown",
   "metadata": {},
   "source": [
    "## Computational Graphs\n",
    "Los grafos computacionales son modelos generados mediante nuestras operaciones con Tensorflow.\n",
    "\n",
    "* El objetivo es generar uno de estos grafos computacionales y después utilizarlo para generar resultados con diferentes sets de datos. Es decir, los sets de datos \"fluyen\" a través del grafo y generan resultados.\n",
    "* Por defecto, se tiene un grafo \"default\", pero puede ser generado más de uno."
   ]
  },
  {
   "cell_type": "code",
   "execution_count": 8,
   "metadata": {},
   "outputs": [],
   "source": [
    "import tensorflow as tf"
   ]
  },
  {
   "cell_type": "markdown",
   "metadata": {},
   "source": [
    "## Variables\n",
    "Bloques de memoria que alojan un valor que puede ser asignado y/o reasignado en tiempo de ejecución."
   ]
  },
  {
   "cell_type": "code",
   "execution_count": 9,
   "metadata": {},
   "outputs": [],
   "source": [
    "x = tf.Variable(4)\n",
    "x = tf.assign(x, 2)"
   ]
  },
  {
   "cell_type": "markdown",
   "metadata": {},
   "source": [
    "## Placeholder\n",
    "Similar a la variable, excepción de que es una forma dinámica de realizar cáculos y operaciones con nuevos datos cada vez, en lugar de reasignar el valor repetidas veces."
   ]
  },
  {
   "cell_type": "code",
   "execution_count": 10,
   "metadata": {},
   "outputs": [],
   "source": [
    "holder1 = tf.placeholder(tf.float32)\n",
    "holder_sum = holder1 + 2"
   ]
  },
  {
   "cell_type": "markdown",
   "metadata": {},
   "source": [
    "## Constant\n",
    "Bloque de memoria que almacena una valor que nunca puede ser modificado en tiempo de ejecución."
   ]
  },
  {
   "cell_type": "code",
   "execution_count": 11,
   "metadata": {},
   "outputs": [],
   "source": [
    "const1 = tf.constant(44)"
   ]
  },
  {
   "cell_type": "markdown",
   "metadata": {},
   "source": [
    "## Session\n",
    "Parte donde podemos ejecutar lo que ya hemos declarado antes"
   ]
  },
  {
   "cell_type": "code",
   "execution_count": 16,
   "metadata": {},
   "outputs": [
    {
     "name": "stdout",
     "output_type": "stream",
     "text": [
      "Variable value:  2\n",
      "Placeholder value:  7.0\n",
      "Constant value:  44\n"
     ]
    }
   ],
   "source": [
    "init = tf.global_variables_initializer()\n",
    "with tf.Session() as sess:\n",
    "    sess.run(init)\n",
    "    ## Not precisely in that order\n",
    "    # Compute variables\n",
    "    print('Variable value: ', sess.run(x))\n",
    "    # Compute placeholders\n",
    "    ## Notice that 5 is a numeric value assigned to holder1 dynamically\n",
    "    print('Placeholder value: ', sess.run(holder_sum, feed_dict = {holder1: 5}))\n",
    "    # Compute constants\n",
    "    print('Constant value: ', sess.run(const1))"
   ]
  },
  {
   "cell_type": "markdown",
   "metadata": {},
   "source": [
    "## Gradients and Optimizer\n",
    "Ejemplo bien ilustrativo como fregados no"
   ]
  },
  {
   "cell_type": "code",
   "execution_count": null,
   "metadata": {},
   "outputs": [],
   "source": [
    "# Import Boston's houses pricing dataset\n",
    "from sklearn.datasets import load_boston\n",
    "from sklearn.preprocessing import StandardScarler\n",
    "import numpy as np\n",
    "\n",
    "# Reseting the default graph let new computations to get stored at\n",
    "# the default graph.\n",
    "tf.reset_default_graph()\n",
    "\n",
    "# Load data and then normalize the data\n",
    "\n",
    "# Create Nodes for holding the data\n",
    "\n",
    "# Calculate the error\n",
    "\n",
    "# Initializing the Variables of the computation graph\n",
    "\n",
    "# Running the computation graph\n"
   ]
  },
  {
   "cell_type": "markdown",
   "metadata": {},
   "source": [
    "## Managing graphs"
   ]
  },
  {
   "cell_type": "markdown",
   "metadata": {},
   "source": [
    "Asignamos una operación a una nueva variable, esta variable se agregará al default graph, por default (valga la redundancia). Finalmente, verificamos si se encuentra en nuestro grafo por defecto."
   ]
  },
  {
   "cell_type": "code",
   "execution_count": 17,
   "metadata": {},
   "outputs": [
    {
     "data": {
      "text/plain": [
       "True"
      ]
     },
     "execution_count": 17,
     "metadata": {},
     "output_type": "execute_result"
    }
   ],
   "source": [
    "# Generamos una nueva variable\n",
    "x1 = tf.Variable(4)\n",
    "# Verificamos. Se espera que retorne True\n",
    "x1.graph is tf.get_default_graph()"
   ]
  },
  {
   "cell_type": "markdown",
   "metadata": {},
   "source": [
    "Asignamos otra variable a un nuevo grafo que acabamos de generar y verificamos si se encuentra en nuestro grafo por defecto."
   ]
  },
  {
   "cell_type": "code",
   "execution_count": 19,
   "metadata": {},
   "outputs": [
    {
     "data": {
      "text/plain": [
       "False"
      ]
     },
     "execution_count": 19,
     "metadata": {},
     "output_type": "execute_result"
    }
   ],
   "source": [
    "# Generamos un nuevo grafo\n",
    "graph1 = tf.Graph()\n",
    "# Especificamos que queremos a x2 en el nuevo grafo\n",
    "with graph1.as_default():\n",
    "    x2 = tf.Variable(411)\n",
    "# Verificamos. Se espera que retorne False.\n",
    "x2.graph is tf.get_default_graph()"
   ]
  }
 ],
 "metadata": {
  "kernelspec": {
   "display_name": "Python 3",
   "language": "python",
   "name": "python3"
  },
  "language_info": {
   "codemirror_mode": {
    "name": "ipython",
    "version": 3
   },
   "file_extension": ".py",
   "mimetype": "text/x-python",
   "name": "python",
   "nbconvert_exporter": "python",
   "pygments_lexer": "ipython3",
   "version": "3.7.3"
  }
 },
 "nbformat": 4,
 "nbformat_minor": 2
}
